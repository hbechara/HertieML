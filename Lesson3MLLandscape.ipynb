{
  "nbformat": 4,
  "nbformat_minor": 0,
  "metadata": {
    "colab": {
      "name": "Lesson3MLLandscape.ipynb",
      "provenance": [],
      "authorship_tag": "ABX9TyPXzSOZ8fQmcJyQjMPyZQM8",
      "include_colab_link": true
    },
    "kernelspec": {
      "name": "python3",
      "display_name": "Python 3"
    }
  },
  "cells": [
    {
      "cell_type": "markdown",
      "metadata": {
        "id": "view-in-github",
        "colab_type": "text"
      },
      "source": [
        "<a href=\"https://colab.research.google.com/github/hbechara/HertieML/blob/main/Lesson3MLLandscape.ipynb\" target=\"_parent\"><img src=\"https://colab.research.google.com/assets/colab-badge.svg\" alt=\"Open In Colab\"/></a>"
      ]
    },
    {
      "cell_type": "markdown",
      "metadata": {
        "id": "O-lMsemdCjPr"
      },
      "source": [
        "**PSA:** Do remember that project proposals are due next week. If you don't have a group or a project idea yet, find a time machine, go back to two weeks ago, and find a team."
      ]
    },
    {
      "cell_type": "markdown",
      "metadata": {
        "id": "CGuDjUmQC1vL"
      },
      "source": [
        "Today:\n",
        "\n",
        "- The Machine Learning Landscape\n",
        "- Getting started with Scikit Learn"
      ]
    },
    {
      "cell_type": "markdown",
      "metadata": {
        "id": "ii0AUoZkDTKG"
      },
      "source": [
        "Supervised vs Unsupervised ML\n",
        "\n",
        "- Supervised ML\n",
        "  - k-Nearest Neighbours\n",
        "  - Linear Regression\n",
        "  - Logistic Regression\n",
        "  - Support Vector Machines\n",
        "  - Decision Trees and Random Forests\n",
        "  - Neural Networks\n",
        "\n",
        "- Unsupervised ML\n",
        " - Please don't leave your MLs unsupervised"
      ]
    },
    {
      "cell_type": "markdown",
      "metadata": {
        "id": "yLh4qjQkEL0e"
      },
      "source": [
        "Instance vs Model Based Learning\n",
        "\n",
        "Instance Based Learning: compares new problem instances with instances seen in training, which have been stored in memory.\n",
        "Eg- k-nearest neighbour, decision tree\n",
        "\n",
        "Model Based Learning: Builds a model from a set of examples, using fixed parametres, and generalises to new instances."
      ]
    },
    {
      "cell_type": "markdown",
      "metadata": {
        "id": "sT2EfXbzE1ww"
      },
      "source": [
        "What is [Scikit Learn](https://scikit-learn.org/stable/)?\n",
        "\n",
        "- A Machine Learning Library for Python\n",
        "- Your best friend and companion for the duration of this course\n",
        "- Awesome\n",
        "\n"
      ]
    },
    {
      "cell_type": "markdown",
      "metadata": {
        "id": "0oz770wTFeUE"
      },
      "source": [
        "Make sure you have Python 3.5+ and that you have Scikit Learn [installed](https://scikit-learn.org/stable/install.html)."
      ]
    },
    {
      "cell_type": "code",
      "metadata": {
        "id": "3vH3cIm0FRL7"
      },
      "source": [
        "!pip install -U scikit-learn"
      ],
      "execution_count": null,
      "outputs": []
    },
    {
      "cell_type": "markdown",
      "metadata": {
        "id": "lQMQAiKgFtER"
      },
      "source": [
        "You can check your installation:"
      ]
    },
    {
      "cell_type": "code",
      "metadata": {
        "id": "jQUriQw-Fs08"
      },
      "source": [
        "!python -m pip show scikit-learn  \n",
        "!python -m pip freeze  \n",
        "!python -c \"import sklearn; sklearn.show_versions()\""
      ],
      "execution_count": null,
      "outputs": []
    },
    {
      "cell_type": "markdown",
      "metadata": {
        "id": "jjfrhfz-GGhS"
      },
      "source": [
        "**Let's look at an example:**\n",
        "\n",
        "Training and running a linear model with Scikit-Learn"
      ]
    },
    {
      "cell_type": "code",
      "metadata": {
        "id": "o8mQg8FqG9Yy"
      },
      "source": [
        "import matplotlib.pyplot as plt\n",
        "import numpy as np\n",
        "import pandas as pd\n",
        "import sklearn.linear_model"
      ],
      "execution_count": null,
      "outputs": []
    },
    {
      "cell_type": "markdown",
      "metadata": {
        "id": "TwWhckutHF1J"
      },
      "source": [
        "**Remember:**\n",
        "\n",
        "We covered numpy and pandas in the previous two sessions.\n",
        "- [numpy](https://numpy.org/) is a package for scientific computing (remember all the fun we had with tensors and matrices?)\n",
        "- [pandas](https://pandas.pydata.org/docs) is a data analysis library, which we used mostly for dataframes so far"
      ]
    },
    {
      "cell_type": "markdown",
      "metadata": {
        "id": "8idPTdgsH-Rk"
      },
      "source": [
        "**Every ML problem starts with Data**\n",
        "\n",
        "- Let's use the data example in the book. \n",
        "- Let's download and merge their data (because they've decided to make it difficult for us)"
      ]
    },
    {
      "cell_type": "code",
      "metadata": {
        "colab": {
          "base_uri": "https://localhost:8080/"
        },
        "id": "3k1Pmq-lHqgR",
        "outputId": "27bec999-7e10-4cea-b141-d4d537070754"
      },
      "source": [
        "# Download the data\n",
        "import urllib.request\n",
        "import os\n",
        "datapath = os.path.join(\"datasets\", \"lifesat\", \"\")\n",
        "\n",
        "DOWNLOAD_ROOT = \"https://raw.githubusercontent.com/ageron/handson-ml2/master/\"\n",
        "os.makedirs(datapath, exist_ok=True)\n",
        "for filename in (\"oecd_bli_2015.csv\", \"gdp_per_capita.csv\"):\n",
        "    print(\"Downloading\", filename)\n",
        "    url = DOWNLOAD_ROOT + \"datasets/lifesat/\" + filename\n",
        "    urllib.request.urlretrieve(url, datapath + filename)"
      ],
      "execution_count": null,
      "outputs": [
        {
          "output_type": "stream",
          "text": [
            "Downloading oecd_bli_2015.csv\n",
            "Downloading gdp_per_capita.csv\n"
          ],
          "name": "stdout"
        }
      ]
    },
    {
      "cell_type": "code",
      "metadata": {
        "id": "mFnXcPYE_9xe"
      },
      "source": [
        "# This function just merges the data we need, you can ignore it and hope that \n",
        "# all future data comes pre-merged.\n",
        "\n",
        "def prepare_country_stats(oecd_bli, gdp_per_capita):\n",
        "    oecd_bli = oecd_bli[oecd_bli[\"INEQUALITY\"]==\"TOT\"]\n",
        "    oecd_bli = oecd_bli.pivot(index=\"Country\", columns=\"Indicator\", values=\"Value\")\n",
        "    gdp_per_capita.rename(columns={\"2015\": \"GDP per capita\"}, inplace=True)\n",
        "    gdp_per_capita.set_index(\"Country\", inplace=True)\n",
        "    full_country_stats = pd.merge(left=oecd_bli, right=gdp_per_capita,\n",
        "                                  left_index=True, right_index=True)\n",
        "    full_country_stats.sort_values(by=\"GDP per capita\", inplace=True)\n",
        "    remove_indices = [0, 1, 6, 8, 33, 34, 35]\n",
        "    keep_indices = list(set(range(36)) - set(remove_indices))\n",
        "    return full_country_stats[[\"GDP per capita\", 'Life satisfaction']].iloc[keep_indices]"
      ],
      "execution_count": null,
      "outputs": []
    },
    {
      "cell_type": "code",
      "metadata": {
        "id": "Q4Jjd6jeJj1P"
      },
      "source": [
        "# Let's import matplotlib for some visualisations\n",
        "%matplotlib inline\n",
        "import matplotlib as mpl\n",
        "mpl.rc('axes', labelsize=14)\n",
        "mpl.rc('xtick', labelsize=12)\n",
        "mpl.rc('ytick', labelsize=12)"
      ],
      "execution_count": null,
      "outputs": []
    },
    {
      "cell_type": "markdown",
      "metadata": {
        "id": "O2N27AJHKL8a"
      },
      "source": [
        "Now we can load our csv files directly into dataframes (just as we demonstrated last week)."
      ]
    },
    {
      "cell_type": "code",
      "metadata": {
        "id": "Ur3QQWJJKVm9"
      },
      "source": [
        "oecd_bli = pd.read_csv(datapath + \"oecd_bli_2015.csv\", thousands=',')\n",
        "gdp_per_capita = pd.read_csv(datapath + \"gdp_per_capita.csv\",thousands=',',delimiter='\\t',\n",
        "                             encoding='latin1', na_values=\"n/a\")"
      ],
      "execution_count": null,
      "outputs": []
    },
    {
      "cell_type": "markdown",
      "metadata": {
        "id": "hxwb1s4tKZ_x"
      },
      "source": [
        "Let's merge the data by country and then set our dependent and independent variables:"
      ]
    },
    {
      "cell_type": "code",
      "metadata": {
        "id": "9LKqkZbUJ93A"
      },
      "source": [
        "# Prepare the data\n",
        "country_stats = prepare_country_stats(oecd_bli, gdp_per_capita)\n",
        "X = np.c_[country_stats[\"GDP per capita\"]]\n",
        "y = np.c_[country_stats[\"Life satisfaction\"]]\n"
      ],
      "execution_count": null,
      "outputs": []
    },
    {
      "cell_type": "code",
      "metadata": {
        "colab": {
          "base_uri": "https://localhost:8080/"
        },
        "id": "7Bza0__Mk-_2",
        "outputId": "70061cbb-5bb7-4ea8-e3f2-fade75bb0ea2"
      },
      "source": [
        "X"
      ],
      "execution_count": null,
      "outputs": [
        {
          "output_type": "execute_result",
          "data": {
            "text/plain": [
              "array([[ 9054.914],\n",
              "       [ 9437.372],\n",
              "       [12239.894],\n",
              "       [12495.334],\n",
              "       [15991.736],\n",
              "       [17288.083],\n",
              "       [18064.288],\n",
              "       [19121.592],\n",
              "       [20732.482],\n",
              "       [25864.721],\n",
              "       [27195.197],\n",
              "       [29866.581],\n",
              "       [32485.545],\n",
              "       [35343.336],\n",
              "       [37044.891],\n",
              "       [37675.006],\n",
              "       [40106.632],\n",
              "       [40996.511],\n",
              "       [41973.988],\n",
              "       [43331.961],\n",
              "       [43603.115],\n",
              "       [43724.031],\n",
              "       [43770.688],\n",
              "       [49866.266],\n",
              "       [50854.583],\n",
              "       [50961.865],\n",
              "       [51350.744],\n",
              "       [52114.165],\n",
              "       [55805.204]])"
            ]
          },
          "metadata": {
            "tags": []
          },
          "execution_count": 96
        }
      ]
    },
    {
      "cell_type": "code",
      "metadata": {
        "colab": {
          "base_uri": "https://localhost:8080/",
          "height": 979
        },
        "id": "suSfdmtbaz-t",
        "outputId": "9b430dbb-c9f5-4489-b289-cf89d75ae597"
      },
      "source": [
        "country_stats"
      ],
      "execution_count": null,
      "outputs": [
        {
          "output_type": "execute_result",
          "data": {
            "text/html": [
              "<div>\n",
              "<style scoped>\n",
              "    .dataframe tbody tr th:only-of-type {\n",
              "        vertical-align: middle;\n",
              "    }\n",
              "\n",
              "    .dataframe tbody tr th {\n",
              "        vertical-align: top;\n",
              "    }\n",
              "\n",
              "    .dataframe thead th {\n",
              "        text-align: right;\n",
              "    }\n",
              "</style>\n",
              "<table border=\"1\" class=\"dataframe\">\n",
              "  <thead>\n",
              "    <tr style=\"text-align: right;\">\n",
              "      <th></th>\n",
              "      <th>GDP per capita</th>\n",
              "      <th>Life satisfaction</th>\n",
              "    </tr>\n",
              "    <tr>\n",
              "      <th>Country</th>\n",
              "      <th></th>\n",
              "      <th></th>\n",
              "    </tr>\n",
              "  </thead>\n",
              "  <tbody>\n",
              "    <tr>\n",
              "      <th>Russia</th>\n",
              "      <td>9054.914</td>\n",
              "      <td>6.0</td>\n",
              "    </tr>\n",
              "    <tr>\n",
              "      <th>Turkey</th>\n",
              "      <td>9437.372</td>\n",
              "      <td>5.6</td>\n",
              "    </tr>\n",
              "    <tr>\n",
              "      <th>Hungary</th>\n",
              "      <td>12239.894</td>\n",
              "      <td>4.9</td>\n",
              "    </tr>\n",
              "    <tr>\n",
              "      <th>Poland</th>\n",
              "      <td>12495.334</td>\n",
              "      <td>5.8</td>\n",
              "    </tr>\n",
              "    <tr>\n",
              "      <th>Slovak Republic</th>\n",
              "      <td>15991.736</td>\n",
              "      <td>6.1</td>\n",
              "    </tr>\n",
              "    <tr>\n",
              "      <th>Estonia</th>\n",
              "      <td>17288.083</td>\n",
              "      <td>5.6</td>\n",
              "    </tr>\n",
              "    <tr>\n",
              "      <th>Greece</th>\n",
              "      <td>18064.288</td>\n",
              "      <td>4.8</td>\n",
              "    </tr>\n",
              "    <tr>\n",
              "      <th>Portugal</th>\n",
              "      <td>19121.592</td>\n",
              "      <td>5.1</td>\n",
              "    </tr>\n",
              "    <tr>\n",
              "      <th>Slovenia</th>\n",
              "      <td>20732.482</td>\n",
              "      <td>5.7</td>\n",
              "    </tr>\n",
              "    <tr>\n",
              "      <th>Spain</th>\n",
              "      <td>25864.721</td>\n",
              "      <td>6.5</td>\n",
              "    </tr>\n",
              "    <tr>\n",
              "      <th>Korea</th>\n",
              "      <td>27195.197</td>\n",
              "      <td>5.8</td>\n",
              "    </tr>\n",
              "    <tr>\n",
              "      <th>Italy</th>\n",
              "      <td>29866.581</td>\n",
              "      <td>6.0</td>\n",
              "    </tr>\n",
              "    <tr>\n",
              "      <th>Japan</th>\n",
              "      <td>32485.545</td>\n",
              "      <td>5.9</td>\n",
              "    </tr>\n",
              "    <tr>\n",
              "      <th>Israel</th>\n",
              "      <td>35343.336</td>\n",
              "      <td>7.4</td>\n",
              "    </tr>\n",
              "    <tr>\n",
              "      <th>New Zealand</th>\n",
              "      <td>37044.891</td>\n",
              "      <td>7.3</td>\n",
              "    </tr>\n",
              "    <tr>\n",
              "      <th>France</th>\n",
              "      <td>37675.006</td>\n",
              "      <td>6.5</td>\n",
              "    </tr>\n",
              "    <tr>\n",
              "      <th>Belgium</th>\n",
              "      <td>40106.632</td>\n",
              "      <td>6.9</td>\n",
              "    </tr>\n",
              "    <tr>\n",
              "      <th>Germany</th>\n",
              "      <td>40996.511</td>\n",
              "      <td>7.0</td>\n",
              "    </tr>\n",
              "    <tr>\n",
              "      <th>Finland</th>\n",
              "      <td>41973.988</td>\n",
              "      <td>7.4</td>\n",
              "    </tr>\n",
              "    <tr>\n",
              "      <th>Canada</th>\n",
              "      <td>43331.961</td>\n",
              "      <td>7.3</td>\n",
              "    </tr>\n",
              "    <tr>\n",
              "      <th>Netherlands</th>\n",
              "      <td>43603.115</td>\n",
              "      <td>7.3</td>\n",
              "    </tr>\n",
              "    <tr>\n",
              "      <th>Austria</th>\n",
              "      <td>43724.031</td>\n",
              "      <td>6.9</td>\n",
              "    </tr>\n",
              "    <tr>\n",
              "      <th>United Kingdom</th>\n",
              "      <td>43770.688</td>\n",
              "      <td>6.8</td>\n",
              "    </tr>\n",
              "    <tr>\n",
              "      <th>Sweden</th>\n",
              "      <td>49866.266</td>\n",
              "      <td>7.2</td>\n",
              "    </tr>\n",
              "    <tr>\n",
              "      <th>Iceland</th>\n",
              "      <td>50854.583</td>\n",
              "      <td>7.5</td>\n",
              "    </tr>\n",
              "    <tr>\n",
              "      <th>Australia</th>\n",
              "      <td>50961.865</td>\n",
              "      <td>7.3</td>\n",
              "    </tr>\n",
              "    <tr>\n",
              "      <th>Ireland</th>\n",
              "      <td>51350.744</td>\n",
              "      <td>7.0</td>\n",
              "    </tr>\n",
              "    <tr>\n",
              "      <th>Denmark</th>\n",
              "      <td>52114.165</td>\n",
              "      <td>7.5</td>\n",
              "    </tr>\n",
              "    <tr>\n",
              "      <th>United States</th>\n",
              "      <td>55805.204</td>\n",
              "      <td>7.2</td>\n",
              "    </tr>\n",
              "  </tbody>\n",
              "</table>\n",
              "</div>"
            ],
            "text/plain": [
              "                 GDP per capita  Life satisfaction\n",
              "Country                                           \n",
              "Russia                 9054.914                6.0\n",
              "Turkey                 9437.372                5.6\n",
              "Hungary               12239.894                4.9\n",
              "Poland                12495.334                5.8\n",
              "Slovak Republic       15991.736                6.1\n",
              "Estonia               17288.083                5.6\n",
              "Greece                18064.288                4.8\n",
              "Portugal              19121.592                5.1\n",
              "Slovenia              20732.482                5.7\n",
              "Spain                 25864.721                6.5\n",
              "Korea                 27195.197                5.8\n",
              "Italy                 29866.581                6.0\n",
              "Japan                 32485.545                5.9\n",
              "Israel                35343.336                7.4\n",
              "New Zealand           37044.891                7.3\n",
              "France                37675.006                6.5\n",
              "Belgium               40106.632                6.9\n",
              "Germany               40996.511                7.0\n",
              "Finland               41973.988                7.4\n",
              "Canada                43331.961                7.3\n",
              "Netherlands           43603.115                7.3\n",
              "Austria               43724.031                6.9\n",
              "United Kingdom        43770.688                6.8\n",
              "Sweden                49866.266                7.2\n",
              "Iceland               50854.583                7.5\n",
              "Australia             50961.865                7.3\n",
              "Ireland               51350.744                7.0\n",
              "Denmark               52114.165                7.5\n",
              "United States         55805.204                7.2"
            ]
          },
          "metadata": {
            "tags": []
          },
          "execution_count": 80
        }
      ]
    },
    {
      "cell_type": "markdown",
      "metadata": {
        "id": "eQMmOqBDKk14"
      },
      "source": [
        "Now, let's visualise it in a scatterplot. We're plotting GDP vs Life satisfaction."
      ]
    },
    {
      "cell_type": "code",
      "metadata": {
        "colab": {
          "base_uri": "https://localhost:8080/",
          "height": 286
        },
        "id": "F1DIgfXKKk8k",
        "outputId": "229ebd0a-dd69-4ae5-c9fc-006761766aef"
      },
      "source": [
        "# Visualize the data\n",
        "country_stats.plot(kind='scatter', x=\"GDP per capita\", y='Life satisfaction')\n",
        "plt.show()"
      ],
      "execution_count": null,
      "outputs": [
        {
          "output_type": "display_data",
          "data": {
            "image/png": "[encoded data removed]",
            "text/plain": [
              "<Figure size 432x288 with 1 Axes>"
            ]
          },
          "metadata": {
            "tags": [],
            "needs_background": "light"
          }
        }
      ]
    },
    {
      "cell_type": "markdown",
      "metadata": {
        "id": "zewcLjnaLEVH"
      },
      "source": [
        "Now let's do some actual Machine Learning:\n",
        "\n",
        "- First let's select a [linear regression model](https://scikit-learn.org/stable/modules/generated/sklearn.linear_model.LinearRegression.html)."
      ]
    },
    {
      "cell_type": "code",
      "metadata": {
        "id": "BLPQzaXTK5Xu"
      },
      "source": [
        "# Select a linear model\n",
        "import sklearn.linear_model\n",
        "\n",
        "model = sklearn.linear_model.LinearRegression()\n"
      ],
      "execution_count": null,
      "outputs": []
    },
    {
      "cell_type": "markdown",
      "metadata": {
        "id": "vr_Vl7U9On1X"
      },
      "source": [
        "Now we can train the model using fit()\n",
        " - Fitting your model to the training data the training part of the modelling process. \n",
        " -  It will give you a function that represents a line that is best fits all the points. \n",
        " - With that line function you can estimate other results.\n",
        "\n",
        " Note that fit does not return anything. It direcly modifes the model, which you will then use to make predictions."
      ]
    },
    {
      "cell_type": "code",
      "metadata": {
        "colab": {
          "base_uri": "https://localhost:8080/"
        },
        "id": "w78d9hCjOAxN",
        "outputId": "4422a18a-c7e1-4ae1-a02b-50535a39ad6d"
      },
      "source": [
        "# Train the model\n",
        "model.fit(X, y)"
      ],
      "execution_count": null,
      "outputs": [
        {
          "output_type": "execute_result",
          "data": {
            "text/plain": [
              "LinearRegression(copy_X=True, fit_intercept=True, n_jobs=None, normalize=False)"
            ]
          },
          "metadata": {
            "tags": []
          },
          "execution_count": 18
        }
      ]
    },
    {
      "cell_type": "markdown",
      "metadata": {
        "id": "nRxHn_VwQEnX"
      },
      "source": [
        "Now let's make a prediction for Cyprus, whose GDP is 22587"
      ]
    },
    {
      "cell_type": "code",
      "metadata": {
        "colab": {
          "base_uri": "https://localhost:8080/"
        },
        "id": "QCEdx0r-OCwP",
        "outputId": "847370e8-1497-4c77-8527-213ad347268c"
      },
      "source": [
        "X_new = [[22587]]  \n",
        "print(model.predict(X_new)) "
      ],
      "execution_count": null,
      "outputs": [
        {
          "output_type": "stream",
          "text": [
            "[[5.96242338]]\n"
          ],
          "name": "stdout"
        }
      ]
    },
    {
      "cell_type": "markdown",
      "metadata": {
        "id": "aXJ-9YqUQMi6"
      },
      "source": [
        "Let's make some changes to this code:\n",
        "- Let's change the model from a linear regression model to a k-nearest neighbours regression (set k to 3).\n",
        "\n",
        "\n",
        "Share your solution!"
      ]
    },
    {
      "cell_type": "markdown",
      "metadata": {
        "id": "ueVMQVCYRzMz"
      },
      "source": [
        "The solution is pretty simple:"
      ]
    },
    {
      "cell_type": "code",
      "metadata": {
        "colab": {
          "base_uri": "https://localhost:8080/"
        },
        "id": "aPVAWC4FRPvM",
        "outputId": "9f1029f2-12ba-4f11-a4f1-c9b558d24ee7"
      },
      "source": [
        "import sklearn.neighbors\n",
        "# Select the new model\n",
        "model = sklearn.neighbors.KNeighborsRegressor(n_neighbors=3)\n",
        "# Train the model\n",
        "model.fit(X, y)\n",
        "X_new = [[22587]]  \n",
        "print(model.predict(X_new)) "
      ],
      "execution_count": null,
      "outputs": [
        {
          "output_type": "stream",
          "text": [
            "[[5.76666667]]\n"
          ],
          "name": "stdout"
        }
      ]
    },
    {
      "cell_type": "markdown",
      "metadata": {
        "id": "_eO0pOv9Td8W"
      },
      "source": [
        "Try it yourself:\n",
        "\n",
        "[Here](https://github.com/hbechara/DLData) I've uploaded two files with mean temperature changes since 1950. \n",
        "\n",
        "- Either download the files or load them straight from github.\n",
        "- Modify the code we worked on today in order to plot mean temperature differences per year\n",
        "- Perform Linear Regression with Scikit Learn\n",
        "\n",
        "\n"
      ]
    },
    {
      "cell_type": "code",
      "metadata": {
        "id": "zijf8rYWUKEg"
      },
      "source": [
        "import matplotlib.pyplot as plt\n",
        "import numpy as np\n",
        "from sklearn.linear_model import LinearRegression"
      ],
      "execution_count": null,
      "outputs": []
    },
    {
      "cell_type": "code",
      "metadata": {
        "id": "yWib5t0M5iii"
      },
      "source": [
        "yearsTrain, meanTrain = np.loadtxt('/content/5-year-mean-1951-1980.csv', delimiter=',', usecols=(0, 1), unpack=True)\n",
        "yearsTrain, meanTrain = np.loadtxt('/content/5-year-mean-1882-2014.csv', delimiter=',', usecols=(0, 1), unpack=True)"
      ],
      "execution_count": null,
      "outputs": []
    },
    {
      "cell_type": "code",
      "metadata": {
        "colab": {
          "base_uri": "https://localhost:8080/",
          "height": 301
        },
        "id": "K-W2d5AW58YN",
        "outputId": "a6347e40-8eb4-41ef-ad11-94f7a7b3ac3d"
      },
      "source": [
        "plt.scatter(yearsTrain, meanTrain)\n",
        "plt.title('scatter plot of mean temp difference vs year')\n",
        "plt.xlabel('years', fontsize=12)\n",
        "plt.ylabel('mean temp difference', fontsize=12)\n",
        "plt.show()"
      ],
      "execution_count": null,
      "outputs": [
        {
          "output_type": "display_data",
          "data": {
            "image/png": "[encoded data removed]",
            "text/plain": [
              "<Figure size 432x288 with 1 Axes>"
            ]
          },
          "metadata": {
            "tags": [],
            "needs_background": "light"
          }
        }
      ]
    },
    {
      "cell_type": "code",
      "metadata": {
        "id": "FaZUdetB6Erc"
      },
      "source": [
        "# Pick the Linear Regression model and instantiate it\n",
        "model = LinearRegression(fit_intercept=True)\n",
        "\n",
        "#Fit/build the model\n",
        "model.fit(yearsTrain[:, np.newaxis], meanTrain)\n",
        "mean_predicted = model.predict(yearsTrain[:, np.newaxis])"
      ],
      "execution_count": null,
      "outputs": []
    },
    {
      "cell_type": "code",
      "metadata": {
        "colab": {
          "base_uri": "https://localhost:8080/"
        },
        "id": "-e-k9pV76V7g",
        "outputId": "77fae869-17f4-460d-c1a7-f5f5f8bdf393"
      },
      "source": [
        "X_new =[[2030]]\n",
        "print(model.predict(X_new)) "
      ],
      "execution_count": null,
      "outputs": [
        {
          "output_type": "stream",
          "text": [
            "[0.78930852]\n"
          ],
          "name": "stdout"
        }
      ]
    }
  ]
}