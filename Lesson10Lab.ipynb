{
  "nbformat": 4,
  "nbformat_minor": 0,
  "metadata": {
    "colab": {
      "name": " Lesson10Lab.ipynb",
      "provenance": [],
      "collapsed_sections": [],
      "include_colab_link": true
    },
    "kernelspec": {
      "name": "python3",
      "display_name": "Python 3"
    },
    "language_info": {
      "name": "python"
    }
  },
  "cells": [
    {
      "cell_type": "markdown",
      "metadata": {
        "id": "view-in-github",
        "colab_type": "text"
      },
      "source": [
        "<a href=\"https://colab.research.google.com/github/hbechara/HertieML/blob/main/Lesson10Lab.ipynb\" target=\"_parent\"><img src=\"https://colab.research.google.com/assets/colab-badge.svg\" alt=\"Open In Colab\"/></a>"
      ]
    },
    {
      "cell_type": "markdown",
      "metadata": {
        "id": "hwc61qu9OTNl"
      },
      "source": [
        "Today:\n",
        "\n",
        "1. Load the MNIST Dataset we used last week and split it into a training set and test set.\n",
        "2. Train a Random Forest Classifier on the dataset and time how long it takes.\n",
        "3. Evaluate the model on the test set.\n",
        "4. Use PCA to reduce the dataset's dimensionality with an explained variance ration of 95%\n",
        "5. Evaluate the classifier on the test set."
      ]
    },
    {
      "cell_type": "markdown",
      "metadata": {
        "id": "Y1DLWnl1O2_f"
      },
      "source": [
        "# Setup"
      ]
    },
    {
      "cell_type": "code",
      "metadata": {
        "id": "fVBl3L3-OSYm"
      },
      "source": [
        "# Python ≥3.5 is required\n",
        "import sys\n",
        "assert sys.version_info >= (3, 5)\n",
        "\n",
        "# Scikit-Learn ≥0.20 is required\n",
        "import sklearn\n",
        "assert sklearn.__version__ >= \"0.20\"\n",
        "\n",
        "# Common imports\n",
        "import numpy as np\n",
        "import os\n",
        "\n",
        "# to make this notebook's output stable across runs\n",
        "np.random.seed(42)\n",
        "\n",
        "# To plot pretty figures\n",
        "%matplotlib inline\n",
        "import matplotlib as mpl\n",
        "import matplotlib.pyplot as plt\n",
        "mpl.rc('axes', labelsize=14)\n",
        "mpl.rc('xtick', labelsize=12)\n",
        "mpl.rc('ytick', labelsize=12)\n",
        "\n",
        "# Where to save the figures\n",
        "PROJECT_ROOT_DIR = \".\"\n",
        "CHAPTER_ID = \"dim_reduction\"\n",
        "IMAGES_PATH = os.path.join(PROJECT_ROOT_DIR, \"images\", CHAPTER_ID)\n",
        "os.makedirs(IMAGES_PATH, exist_ok=True)\n",
        "\n",
        "def save_fig(fig_id, tight_layout=True, fig_extension=\"png\", resolution=300):\n",
        "    path = os.path.join(IMAGES_PATH, fig_id + \".\" + fig_extension)\n",
        "    print(\"Saving figure\", fig_id)\n",
        "    if tight_layout:\n",
        "        plt.tight_layout()\n",
        "    plt.savefig(path, format=fig_extension, dpi=resolution)"
      ],
      "execution_count": null,
      "outputs": []
    },
    {
      "cell_type": "markdown",
      "metadata": {
        "id": "zfE2o-YUO8Fn"
      },
      "source": [
        "# Dataset"
      ]
    },
    {
      "cell_type": "code",
      "metadata": {
        "id": "2F8olwK1PGxK"
      },
      "source": [
        "from sklearn.datasets import fetch_openml\n",
        "\n",
        "mnist = fetch_openml('mnist_784', version=1, as_frame=False)\n",
        "mnist.target = mnist.target.astype(np.uint8)"
      ],
      "execution_count": null,
      "outputs": []
    },
    {
      "cell_type": "code",
      "metadata": {
        "id": "yMR4quAsPHuJ"
      },
      "source": [
        "from sklearn.model_selection import train_test_split\n",
        "\n",
        "X = mnist[\"data\"]\n",
        "y = mnist[\"target\"]\n",
        "\n",
        "X_train, X_test, y_train, y_test = train_test_split(X, y)"
      ],
      "execution_count": null,
      "outputs": []
    },
    {
      "cell_type": "code",
      "metadata": {
        "id": "KthMqxcAPPd4"
      },
      "source": [
        "X_train = mnist['data'][:60000]\n",
        "y_train = mnist['target'][:60000]\n",
        "\n",
        "X_test = mnist['data'][60000:]\n",
        "y_test = mnist['target'][60000:]"
      ],
      "execution_count": null,
      "outputs": []
    },
    {
      "cell_type": "markdown",
      "metadata": {
        "id": "V3vM0ZXCPSER"
      },
      "source": [
        "# Train a random forest classifier"
      ]
    },
    {
      "cell_type": "code",
      "metadata": {
        "id": "Z6-tTUX1PafO"
      },
      "source": [
        ""
      ],
      "execution_count": null,
      "outputs": []
    },
    {
      "cell_type": "code",
      "metadata": {
        "id": "Zl5EkAk7luqK"
      },
      "source": [
        "# Thilos Solution\n",
        "\n",
        "from sklearn.ensemble import RandomForestClassifier\n",
        "import timeit\n",
        "\n",
        "clasf_RF = RandomForestClassifier(random_state=42) \n",
        "\n",
        "# Start Timer\n",
        "print(\">... Starting training of\", clasf_RF.__class__.__name__)\n",
        "start_time = timeit.default_timer()\n",
        "clasf_RF.fit(X_train, y_train)\n",
        "time_elapsed = timeit.default_timer() - start_time\n",
        "print(\">... Finished training in {} seconds.\".format(round(time_elapsed,3)))"
      ],
      "execution_count": null,
      "outputs": []
    },
    {
      "cell_type": "code",
      "metadata": {
        "id": "QbdnH8_9lx5I"
      },
      "source": [
        "# Thilos Solution\n",
        "# Testing on test set\n",
        "from sklearn.metrics import accuracy_score\n",
        "\n",
        "y_pred = clasf_RF.predict(X_test)\n",
        "acc = accuracy_score(y_test,y_pred)\n",
        "print(\"Accuracy Score for {}: {}\".format(clasf_RF.__class__.__name__, acc))\n"
      ],
      "execution_count": null,
      "outputs": []
    },
    {
      "cell_type": "code",
      "metadata": {
        "id": "BY1q4qFkl2dw"
      },
      "source": [
        "# Diego's Solution\n",
        "from sklearn.ensemble import RandomForestClassifier\n",
        "from sklearn.datasets import make_classification\n",
        "import time\n",
        "\n",
        "RF = RandomForestClassifier()\n",
        "t0 = time.time()\n",
        "RF.fit(X_train,y_train)\n",
        "t1 = time.time()\n",
        "\n",
        "total = t1-t0"
      ],
      "execution_count": null,
      "outputs": []
    },
    {
      "cell_type": "markdown",
      "metadata": {
        "id": "rIhlPU2JPk4x"
      },
      "source": [
        "# Calculate Accuracy on the Test Set"
      ]
    },
    {
      "cell_type": "markdown",
      "metadata": {
        "id": "JuSuK1VFPypd"
      },
      "source": [
        "Use PCA to reduce the dataset's dimensionality, with an explained variance ratio of 95%"
      ]
    },
    {
      "cell_type": "code",
      "metadata": {
        "id": "EF-hA7Q9v5pn",
        "colab": {
          "base_uri": "https://localhost:8080/"
        },
        "outputId": "3e8b6675-4f63-43d7-d890-ceaeb78c5cd4"
      },
      "source": [
        "# Thilos Solution\n",
        "from sklearn.decomposition import PCA\n",
        "pca = PCA(n_components=0.95)\n",
        "X_red = pca.fit_transform(X)\n",
        "X_train, X_test, X_train_red, X_test_red, y_train, y_test = train_test_split(X, X_red, y)\n",
        "print(\"Full dimensionality: {}\".format(X.shape[1]))\n",
        "print(\"Reduced dimensionality: {}\".format(X_red.shape[1]))"
      ],
      "execution_count": null,
      "outputs": [
        {
          "output_type": "stream",
          "text": [
            "Full dimensionality: 784\n",
            "Reduced dimensionality: 154\n"
          ],
          "name": "stdout"
        }
      ]
    },
    {
      "cell_type": "markdown",
      "metadata": {
        "id": "8HL5uiwUP5SS"
      },
      "source": [
        "Train a new Random Forest classifier on the reduced dataset and see how long it takes. Was training much faster?"
      ]
    },
    {
      "cell_type": "code",
      "metadata": {
        "id": "N6y3-KAA6GZ9"
      },
      "source": [
        "#Thilos Solution\n",
        "clasf_RF_red = RandomForestClassifier(random_state=42) \n",
        "\n",
        "# Start Timer\n",
        "print(\">... Starting training of\", clasf_RF_red.__class__.__name__)\n",
        "start_time = timeit.default_timer()\n",
        "clasf_RF_red.fit(X_train_red, y_train)\n",
        "time_elapsed = timeit.default_timer() - start_time\n",
        "print(\">... Finished training in {} seconds.\".format(round(time_elapsed,3)))"
      ],
      "execution_count": null,
      "outputs": []
    },
    {
      "cell_type": "markdown",
      "metadata": {
        "id": "z8V9cd9lP-u7"
      },
      "source": [
        "Evaluate the classifier on the test set: how does it compare to the previous classifier?"
      ]
    },
    {
      "cell_type": "code",
      "metadata": {
        "id": "XN0KX_Se6NKj"
      },
      "source": [
        "#Thilos Solution\n",
        "y_pred = clasf_RF_red.predict(X_test_red)\n",
        "acc = accuracy_score(y_test,y_pred)\n",
        "print(\"Accuracy Score for {}: {}\".format(clasf_RF_red.__class__.__name__, acc))"
      ],
      "execution_count": null,
      "outputs": []
    },
    {
      "cell_type": "markdown",
      "metadata": {
        "id": "nI5VR36aQHlr"
      },
      "source": [
        "Discussion: Why did the PCA version take more time? What happens if we replace the Random Forest Classifier with a Softmax classifier? Try it out."
      ]
    },
    {
      "cell_type": "code",
      "metadata": {
        "id": "4ng5QM5d6eHV"
      },
      "source": [
        "# Thilo Solution Softmax\n",
        "from sklearn.linear_model import LogisticRegression\n",
        "\n",
        "clasf_SoftMax = LogisticRegression(random_state=42, multi_class=\"multinomial\") \n",
        "\n",
        "# Start Timer\n",
        "print(\">... Starting training of\", clasf_SoftMax.__class__.__name__)\n",
        "start_time = timeit.default_timer()\n",
        "clasf_SoftMax.fit(X_train, y_train)\n",
        "time_elapsed = timeit.default_timer() - start_time\n",
        "print(\">... Finished training in {} seconds.\".format(round(time_elapsed,3)))"
      ],
      "execution_count": null,
      "outputs": []
    },
    {
      "cell_type": "code",
      "metadata": {
        "id": "sujMM4Cp6iRA"
      },
      "source": [
        "# Thilos Solution Softmax Prediction\n",
        "# Prediction\n",
        "y_pred = clasf_SoftMax.predict(X_test)\n",
        "acc = accuracy_score(y_test,y_pred)\n",
        "print(\"Accuracy Score for {}: {}\".format(clasf_SoftMax.__class__.__name__, acc))"
      ],
      "execution_count": null,
      "outputs": []
    },
    {
      "cell_type": "code",
      "metadata": {
        "id": "ldlwR0s26k5j"
      },
      "source": [
        "# Thilos Soltuion Softmax\n",
        "# Reduced test set training\n",
        "clasf_SoftMax_red = LogisticRegression(random_state=42, multi_class=\"multinomial\") \n",
        "\n",
        "# Start Timer\n",
        "print(\">... Starting training of\", clasf_SoftMax_red.__class__.__name__)\n",
        "start_time = timeit.default_timer()\n",
        "clasf_SoftMax_red.fit(X_train_red, y_train)\n",
        "time_elapsed = timeit.default_timer() - start_time\n",
        "print(\">... Finished training in {} seconds.\".format(round(time_elapsed,3)))"
      ],
      "execution_count": null,
      "outputs": []
    },
    {
      "cell_type": "code",
      "metadata": {
        "id": "dmvjMf236scC"
      },
      "source": [
        "# Thilos Solution Prediction reduced\n",
        "y_pred = clasf_SoftMax_red.predict(X_test_red)\n",
        "acc = accuracy_score(y_test,y_pred)\n",
        "print(\"Accuracy Score for {}: {}\".format(clasf_SoftMax_red.__class__.__name__, acc))"
      ],
      "execution_count": null,
      "outputs": []
    },
    {
      "cell_type": "code",
      "metadata": {
        "id": "VvahI1C56zRD"
      },
      "source": [
        "# Thilo Solution SGD basic\n",
        "# SGD\n",
        "from sklearn.linear_model import SGDClassifier\n",
        "\n",
        "clasf_SGD = SGDClassifier(random_state=42) \n",
        "\n",
        "# Start Timer\n",
        "print(\">... Starting training of\", clasf_SGD.__class__.__name__)\n",
        "start_time = timeit.default_timer()\n",
        "clasf_SGD.fit(X_train, y_train)\n",
        "time_elapsed = timeit.default_timer() - start_time\n",
        "print(\">... Finished training in {} seconds.\".format(round(time_elapsed,3)))"
      ],
      "execution_count": null,
      "outputs": []
    },
    {
      "cell_type": "code",
      "metadata": {
        "id": "V8tHb1is61Oh"
      },
      "source": [
        "# Prediction\n",
        "y_pred = clasf_SGD.predict(X_test)\n",
        "acc = accuracy_score(y_test,y_pred)\n",
        "print(\"Accuracy Score for {}: {}\".format(clasf_SGD.__class__.__name__, acc))"
      ],
      "execution_count": null,
      "outputs": []
    },
    {
      "cell_type": "code",
      "metadata": {
        "id": "Mqiyqb2363St"
      },
      "source": [
        "# SGD reduced\n",
        "from sklearn.linear_model import SGDClassifier\n",
        "\n",
        "clasf_SGD_red = SGDClassifier(random_state=42) \n",
        "\n",
        "# Start Timer\n",
        "print(\">... Starting training of\", clasf_SGD_red.__class__.__name__)\n",
        "start_time = timeit.default_timer()\n",
        "clasf_SGD_red.fit(X_train_red, y_train)\n",
        "time_elapsed = timeit.default_timer() - start_time\n",
        "print(\">... Finished training in {} seconds.\".format(round(time_elapsed,3)))"
      ],
      "execution_count": null,
      "outputs": []
    },
    {
      "cell_type": "code",
      "metadata": {
        "id": "S4uKVtpq69zu"
      },
      "source": [
        "# SGD reduced Prediction\n",
        "y_pred = clasf_SGD_red.predict(X_test_red)\n",
        "acc = accuracy_score(y_test,y_pred)\n",
        "print(\"Accuracy Score for {}: {}\".format(clasf_SGD_red.__class__.__name__, acc))"
      ],
      "execution_count": null,
      "outputs": []
    },
    {
      "cell_type": "code",
      "metadata": {
        "colab": {
          "base_uri": "https://localhost:8080/"
        },
        "id": "gl3Vjxxh-7uA",
        "outputId": "c2d65485-0b52-42c6-9b22-e8baba6eadb8"
      },
      "source": [
        "#Diego SVM\n",
        "\n",
        "pca2 = PCA(n_components=0.95)\n",
        "X_reduced = pca2.fit_transform(X)\n",
        "\n",
        "from sklearn.svm import SVC\n",
        "import time\n",
        "\n",
        "SVM_clf_reduced = SVC()\n",
        "\n",
        "t0 = time.time()\n",
        "SVM_clf_reduced.fit(X_train_red,y_train)\n",
        "t1 = time.time()\n",
        "total_reduced = t1-t0\n",
        "\n",
        "\n",
        "SVM_clf_normal = SVC()\n",
        "t0 = time.time()\n",
        "SVM_clf_normal.fit(X_train,y_train)\n",
        "t1 = time.time()\n",
        "total_normal = t1-t0\n",
        "\n",
        "\n",
        "score_reduced = SVM_clf_reduced.score(X_test_red, y_test)\n",
        "\n",
        "score_normal =  SVM_clf_normal.score(X_test, y_test)\n",
        "\n",
        "print(total_reduced)\n",
        "print(total_normal)\n",
        "print(score_reduced)\n",
        "print(score_normal) \n",
        "\n"
      ],
      "execution_count": null,
      "outputs": [
        {
          "output_type": "stream",
          "text": [
            "132.16876983642578\n",
            "455.4890456199646\n",
            "0.9828\n",
            "0.9786285714285714\n"
          ],
          "name": "stdout"
        }
      ]
    },
    {
      "cell_type": "markdown",
      "metadata": {
        "id": "XD10uMX-QeJM"
      },
      "source": [
        "Now let's use the reduced dataset"
      ]
    }
  ]
}