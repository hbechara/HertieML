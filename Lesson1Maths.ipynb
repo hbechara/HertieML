{
  "nbformat": 4,
  "nbformat_minor": 0,
  "metadata": {
    "colab": {
      "name": "Lesson1Maths.ipynb",
      "provenance": [],
      "authorship_tag": "ABX9TyPguvs0pknCdhpkz3aTlgG5",
      "include_colab_link": true
    },
    "kernelspec": {
      "name": "python3",
      "display_name": "Python 3"
    }
  },
  "cells": [
    {
      "cell_type": "markdown",
      "metadata": {
        "id": "view-in-github",
        "colab_type": "text"
      },
      "source": [
        "<a href=\"https://colab.research.google.com/github/hbechara/HertieML/blob/main/Lesson1Maths.ipynb\" target=\"_parent\"><img src=\"https://colab.research.google.com/assets/colab-badge.svg\" alt=\"Open In Colab\"/></a>"
      ]
    },
    {
      "cell_type": "markdown",
      "metadata": {
        "id": "p6Ke0vRkDoA9"
      },
      "source": [
        "You can take a look at the documentation for numpy here:\n",
        "https://numpy.org/doc/stable/reference"
      ]
    },
    {
      "cell_type": "code",
      "metadata": {
        "id": "ma1MbEdNAIlW"
      },
      "source": [
        "import numpy as np"
      ],
      "execution_count": null,
      "outputs": []
    },
    {
      "cell_type": "code",
      "metadata": {
        "colab": {
          "base_uri": "https://localhost:8080/"
        },
        "id": "nz8mhN-6A_1y",
        "outputId": "ea46a103-76c7-49eb-ae01-78d72c3b8ff3"
      },
      "source": [
        "A = np.array([1,2])\n",
        "B = np.array([[1,2],[3,4]])\n",
        "C = np.array([[[1,2,3],[4,5,6]],[[7,8,9],[10,11,12]]])\n",
        "\n",
        "print(A.shape)\n",
        "print(B.shape)\n",
        "print(C.shape)"
      ],
      "execution_count": null,
      "outputs": [
        {
          "output_type": "stream",
          "text": [
            "(2,)\n",
            "(2, 2)\n",
            "(2, 2, 3)\n"
          ],
          "name": "stdout"
        }
      ]
    },
    {
      "cell_type": "code",
      "metadata": {
        "colab": {
          "base_uri": "https://localhost:8080/"
        },
        "id": "ebopjlDXEpIb",
        "outputId": "50bc7855-2e77-4082-c880-7d6fc6c27e2f"
      },
      "source": [
        "print(A)\n",
        "print(B)\n",
        "print(C)"
      ],
      "execution_count": null,
      "outputs": [
        {
          "output_type": "stream",
          "text": [
            "[1 2]\n",
            "[[1 2]\n",
            " [3 4]]\n",
            "[[[ 1  2  3]\n",
            "  [ 4  5  6]]\n",
            "\n",
            " [[ 7  8  9]\n",
            "  [10 11 12]]]\n"
          ],
          "name": "stdout"
        }
      ]
    },
    {
      "cell_type": "code",
      "metadata": {
        "colab": {
          "base_uri": "https://localhost:8080/"
        },
        "id": "O8KG0IwMM4LM",
        "outputId": "678072c1-a37e-4c17-fdc7-5602c88dbe79"
      },
      "source": [
        "# What do you think the shape of this matrix is going to be?\n",
        "\n",
        "D = np.random.rand(2,3)\n",
        "\n",
        "print(D)"
      ],
      "execution_count": null,
      "outputs": [
        {
          "output_type": "stream",
          "text": [
            "[[0.71605178 0.9886141  0.21151589]\n",
            " [0.90044565 0.37483871 0.3630812 ]]\n"
          ],
          "name": "stdout"
        }
      ]
    },
    {
      "cell_type": "code",
      "metadata": {
        "colab": {
          "base_uri": "https://localhost:8080/"
        },
        "id": "-3iZ6H_xECbu",
        "outputId": "c971807d-8a26-431c-891e-9260b02d14e4"
      },
      "source": [
        "# Arrays can be indexed just like lists.\n",
        "\n",
        "print(D[1,1])"
      ],
      "execution_count": null,
      "outputs": [
        {
          "output_type": "stream",
          "text": [
            "0.374838714042773\n"
          ],
          "name": "stdout"
        }
      ]
    },
    {
      "cell_type": "code",
      "metadata": {
        "colab": {
          "base_uri": "https://localhost:8080/"
        },
        "id": "OsUFhmr7EcLI",
        "outputId": "8bc9e5f0-2715-4035-cac9-83f51fef3785"
      },
      "source": [
        "# I can also assign elements like in lists\n",
        "\n",
        "D[1,1] = 99\n",
        "print(D)"
      ],
      "execution_count": null,
      "outputs": [
        {
          "output_type": "stream",
          "text": [
            "[[ 0.71605178  0.9886141   0.21151589]\n",
            " [ 0.90044565 99.          0.3630812 ]]\n"
          ],
          "name": "stdout"
        }
      ]
    },
    {
      "cell_type": "code",
      "metadata": {
        "id": "z1HTu0beB8zA"
      },
      "source": [
        "# Let us use NumPy to transpose a matrix\n",
        "\n",
        "A = np.array([[1, 2, 3], [4, 5, 6]])\n",
        "print('Original Array:',A)\n",
        "A_T = A.transpose()\n",
        "print('Transposed Array:', A_T)"
      ],
      "execution_count": null,
      "outputs": []
    },
    {
      "cell_type": "markdown",
      "metadata": {
        "id": "Mhu8H97rCyFO"
      },
      "source": [
        "Let's do something easy now. \n",
        "\n",
        "\n",
        "* [Add the two matrices below](https://numpy.org/doc/stable/reference/generated/numpy.add.html)\n",
        "\n",
        "\n",
        "\n"
      ]
    },
    {
      "cell_type": "code",
      "metadata": {
        "id": "_QmiPWUcG0HM"
      },
      "source": [
        "A = np.array([[1,2],[3,4],[5,6]])\n",
        "B = np.array([[10,20],[30,40],[1,2]])"
      ],
      "execution_count": null,
      "outputs": []
    },
    {
      "cell_type": "code",
      "metadata": {
        "colab": {
          "base_uri": "https://localhost:8080/"
        },
        "id": "SKJ0vikgeC6T",
        "outputId": "ce1ed1b9-14b0-46a2-81db-cc6c5d5862d6"
      },
      "source": [
        "C = np.add(A,B)\n",
        "print(C.shape)\n",
        "print(C)"
      ],
      "execution_count": null,
      "outputs": [
        {
          "output_type": "stream",
          "text": [
            "(3, 2)\n",
            "[[11 22]\n",
            " [33 44]\n",
            " [ 6  8]]\n"
          ],
          "name": "stdout"
        }
      ]
    },
    {
      "cell_type": "markdown",
      "metadata": {
        "id": "7XIEBLcWHxlB"
      },
      "source": [
        "Multiply the two matrices below"
      ]
    },
    {
      "cell_type": "code",
      "metadata": {
        "id": "QPJDfENIHxHJ"
      },
      "source": [
        "A = np.array([[1,2],[3,4]])\n",
        "B = np.array([[10,20],[30,40]])"
      ],
      "execution_count": null,
      "outputs": []
    },
    {
      "cell_type": "code",
      "metadata": {
        "id": "1r-TbH01cAEr"
      },
      "source": [
        "C = A.dot(B)\n",
        "print(C.shape)"
      ],
      "execution_count": null,
      "outputs": []
    },
    {
      "cell_type": "markdown",
      "metadata": {
        "id": "h69nwl2VIE3p"
      },
      "source": [
        "Find the inverse of the matrix below\n",
        "\n",
        "(Hint: use numpy.linalg function)"
      ]
    },
    {
      "cell_type": "code",
      "metadata": {
        "colab": {
          "base_uri": "https://localhost:8080/"
        },
        "id": "TcLdJhJuIL0F",
        "outputId": "56637f53-c626-4c12-fc09-15d3dc8b7cbb"
      },
      "source": [
        "A = np.array([[6,2,1],[7,4,2],[1,2,3]])\n",
        "\n",
        "A_I = np.linalg.inv(A)\n",
        "\n",
        "print(A_I)"
      ],
      "execution_count": null,
      "outputs": [
        {
          "output_type": "stream",
          "text": [
            "[[ 4.00000000e-01 -2.00000000e-01  3.17206578e-17]\n",
            " [-9.50000000e-01  8.50000000e-01 -2.50000000e-01]\n",
            " [ 5.00000000e-01 -5.00000000e-01  5.00000000e-01]]\n"
          ],
          "name": "stdout"
        }
      ]
    },
    {
      "cell_type": "markdown",
      "metadata": {
        "id": "Kah-eExPZyya"
      },
      "source": [
        "Ok one more. Let's find the transpose of this matrix."
      ]
    },
    {
      "cell_type": "code",
      "metadata": {
        "colab": {
          "base_uri": "https://localhost:8080/"
        },
        "id": "rWQcae1SbUpd",
        "outputId": "ad11536f-adbc-486d-abc7-d5abffe08df8"
      },
      "source": [
        "A = np.array([[1, 2, 3], [4, 5, 6]])\n",
        "\n",
        "A_T = np.transpose(A)\n",
        "\n",
        "print(A_T)"
      ],
      "execution_count": null,
      "outputs": [
        {
          "output_type": "stream",
          "text": [
            "[[1 4]\n",
            " [2 5]\n",
            " [3 6]]\n"
          ],
          "name": "stdout"
        }
      ]
    },
    {
      "cell_type": "markdown",
      "metadata": {
        "id": "yvcrdR_FIi4v"
      },
      "source": [
        "Let's do something a bit harder. \n",
        "Let's write a test for np.linalg.inv\n",
        "\n",
        "inv returns the inverse of a matrix. How can we test that this function is working properly?"
      ]
    }
  ]
}