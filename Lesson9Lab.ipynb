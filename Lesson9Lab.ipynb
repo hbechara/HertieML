{
  "nbformat": 4,
  "nbformat_minor": 0,
  "metadata": {
    "colab": {
      "name": "Lesson9Lab.ipynb",
      "provenance": [],
      "collapsed_sections": [],
      "include_colab_link": true
    },
    "kernelspec": {
      "name": "python3",
      "display_name": "Python 3"
    },
    "language_info": {
      "name": "python"
    }
  },
  "cells": [
    {
      "cell_type": "markdown",
      "metadata": {
        "id": "view-in-github",
        "colab_type": "text"
      },
      "source": [
        "<a href=\"https://colab.research.google.com/github/hbechara/HertieML/blob/main/Lesson9Lab.ipynb\" target=\"_parent\"><img src=\"https://colab.research.google.com/assets/colab-badge.svg\" alt=\"Open In Colab\"/></a>"
      ]
    },
    {
      "cell_type": "markdown",
      "metadata": {
        "id": "CmZ8bckgappr"
      },
      "source": [
        "Today's Quest:\n",
        "- Split the MNIST Data into a training set, validation set and test set. (I've done this part for you)\n",
        "- Train various classifiers (Random Forest, Extra-Trees, SVM, etc).\n",
        "- Try to combine them into an ensemble that outperforms each individual classifier."
      ]
    },
    {
      "cell_type": "markdown",
      "metadata": {
        "id": "O-4VTuxlbKSW"
      },
      "source": [
        "# Setup"
      ]
    },
    {
      "cell_type": "code",
      "metadata": {
        "id": "n0C1SnVFam_b"
      },
      "source": [
        "# Python ≥3.5 is required\n",
        "import sys\n",
        "assert sys.version_info >= (3, 5)\n",
        "\n",
        "# Scikit-Learn ≥0.20 is required\n",
        "import sklearn\n",
        "assert sklearn.__version__ >= \"0.20\"\n",
        "\n",
        "# Common imports\n",
        "import numpy as np\n",
        "import os\n",
        "\n",
        "# to make this notebook's output stable across runs\n",
        "np.random.seed(42)\n",
        "\n"
      ],
      "execution_count": null,
      "outputs": []
    },
    {
      "cell_type": "markdown",
      "metadata": {
        "id": "GP6kgB5hbfp1"
      },
      "source": [
        "# Load Dataset and Split "
      ]
    },
    {
      "cell_type": "code",
      "metadata": {
        "id": "S1i5p1r4ccH3"
      },
      "source": [
        "from sklearn.datasets import fetch_openml\n",
        "\n",
        "mnist = fetch_openml('mnist_784', version=1, as_frame=False)\n",
        "mnist.target = mnist.target.astype(np.uint8)"
      ],
      "execution_count": null,
      "outputs": []
    },
    {
      "cell_type": "code",
      "metadata": {
        "id": "wVVyPuuLbdNo"
      },
      "source": [
        "from sklearn.model_selection import train_test_split\n",
        "\n",
        "X_train_val, X_test, y_train_val, y_test = train_test_split(\n",
        "    mnist.data, mnist.target, test_size=10000, random_state=42)\n",
        "X_train, X_val, y_train, y_val = train_test_split(\n",
        "    X_train_val, y_train_val, test_size=10000, random_state=42)"
      ],
      "execution_count": null,
      "outputs": []
    },
    {
      "cell_type": "markdown",
      "metadata": {
        "id": "ogui0zutcyTU"
      },
      "source": [
        "# Train various classifiers:\n",
        "\n",
        "- I have made some suggestions. Pick your poison. "
      ]
    },
    {
      "cell_type": "code",
      "metadata": {
        "id": "xXeiV4AUc2VK"
      },
      "source": [
        "from sklearn.ensemble import RandomForestClassifier, ExtraTreesClassifier\n",
        "from sklearn.svm import LinearSVC\n",
        "from sklearn.neural_network import MLPClassifier\n",
        "from sklearn.linear_model import LogisticRegression"
      ],
      "execution_count": null,
      "outputs": []
    },
    {
      "cell_type": "code",
      "metadata": {
        "id": "dUkhhC8JdXPM",
        "colab": {
          "base_uri": "https://localhost:8080/"
        },
        "outputId": "efcdf53f-1bab-41af-e9a4-49865e7797d2"
      },
      "source": [
        "# training the classifier\n",
        "\n",
        "svm_clr = LinearSVC(random_state=42)\n",
        "svm_clr.fit(X_train, y_train)\n",
        "\n",
        "log_clr = LogisticRegression(max_iter=200, random_state=42)\n",
        "log_clr.fit(X_train, y_train)\n",
        "\n",
        "nn_clr = MLPClassifier(random_state=42)\n",
        "nn_clr.fit(X_train, y_train)\n"
      ],
      "execution_count": null,
      "outputs": [
        {
          "output_type": "stream",
          "text": [
            "/usr/local/lib/python3.7/dist-packages/sklearn/svm/_base.py:947: ConvergenceWarning: Liblinear failed to converge, increase the number of iterations.\n",
            "  \"the number of iterations.\", ConvergenceWarning)\n",
            "/usr/local/lib/python3.7/dist-packages/sklearn/linear_model/_logistic.py:940: ConvergenceWarning: lbfgs failed to converge (status=1):\n",
            "STOP: TOTAL NO. of ITERATIONS REACHED LIMIT.\n",
            "\n",
            "Increase the number of iterations (max_iter) or scale the data as shown in:\n",
            "    https://scikit-learn.org/stable/modules/preprocessing.html\n",
            "Please also refer to the documentation for alternative solver options:\n",
            "    https://scikit-learn.org/stable/modules/linear_model.html#logistic-regression\n",
            "  extra_warning_msg=_LOGISTIC_SOLVER_CONVERGENCE_MSG)\n"
          ],
          "name": "stderr"
        },
        {
          "output_type": "execute_result",
          "data": {
            "text/plain": [
              "MLPClassifier(activation='relu', alpha=0.0001, batch_size='auto', beta_1=0.9,\n",
              "              beta_2=0.999, early_stopping=False, epsilon=1e-08,\n",
              "              hidden_layer_sizes=(100,), learning_rate='constant',\n",
              "              learning_rate_init=0.001, max_fun=15000, max_iter=200,\n",
              "              momentum=0.9, n_iter_no_change=10, nesterovs_momentum=True,\n",
              "              power_t=0.5, random_state=42, shuffle=True, solver='adam',\n",
              "              tol=0.0001, validation_fraction=0.1, verbose=False,\n",
              "              warm_start=False)"
            ]
          },
          "metadata": {
            "tags": []
          },
          "execution_count": 12
        }
      ]
    },
    {
      "cell_type": "code",
      "metadata": {
        "id": "ZmxmWWfgjVOw",
        "colab": {
          "base_uri": "https://localhost:8080/",
          "height": 201
        },
        "outputId": "1f800d7a-5768-4668-cb01-a99f90074d00"
      },
      "source": [
        "y_pred_svm = svm_clf.predict(X_val)\n",
        "y_pred_log = log_clr.predict(X_val)\n",
        "y_pred_nn = nn_clr.predict(X_val)"
      ],
      "execution_count": null,
      "outputs": [
        {
          "output_type": "error",
          "ename": "NameError",
          "evalue": "ignored",
          "traceback": [
            "\u001b[0;31m---------------------------------------------------------------------------\u001b[0m",
            "\u001b[0;31mNameError\u001b[0m                                 Traceback (most recent call last)",
            "\u001b[0;32m<ipython-input-7-362342e7e252>\u001b[0m in \u001b[0;36m<module>\u001b[0;34m()\u001b[0m\n\u001b[0;32m----> 1\u001b[0;31m \u001b[0my_pred_svm\u001b[0m \u001b[0;34m=\u001b[0m \u001b[0msvm_clf\u001b[0m\u001b[0;34m.\u001b[0m\u001b[0mpredict\u001b[0m\u001b[0;34m(\u001b[0m\u001b[0mX_val\u001b[0m\u001b[0;34m)\u001b[0m\u001b[0;34m\u001b[0m\u001b[0;34m\u001b[0m\u001b[0m\n\u001b[0m\u001b[1;32m      2\u001b[0m \u001b[0my_pred_log\u001b[0m \u001b[0;34m=\u001b[0m \u001b[0mlog_clr\u001b[0m\u001b[0;34m.\u001b[0m\u001b[0mpredict\u001b[0m\u001b[0;34m(\u001b[0m\u001b[0mX_val\u001b[0m\u001b[0;34m)\u001b[0m\u001b[0;34m\u001b[0m\u001b[0;34m\u001b[0m\u001b[0m\n\u001b[1;32m      3\u001b[0m \u001b[0my_pred_nn\u001b[0m \u001b[0;34m=\u001b[0m \u001b[0mnn_clr\u001b[0m\u001b[0;34m.\u001b[0m\u001b[0mpredict\u001b[0m\u001b[0;34m(\u001b[0m\u001b[0mX_val\u001b[0m\u001b[0;34m)\u001b[0m\u001b[0;34m\u001b[0m\u001b[0;34m\u001b[0m\u001b[0m\n",
            "\u001b[0;31mNameError\u001b[0m: name 'svm_clf' is not defined"
          ]
        }
      ]
    },
    {
      "cell_type": "code",
      "metadata": {
        "id": "RlvIE6cLjbuO"
      },
      "source": [
        "from sklearn.metrics import accuracy_score\n",
        "\n",
        "print(accuracy_score(y_val, y_pred_log))\n"
      ],
      "execution_count": null,
      "outputs": []
    },
    {
      "cell_type": "code",
      "metadata": {
        "id": "7KY3TiUjlsNU"
      },
      "source": [
        "print(accuracy_score(y_val, y_pred_svm))\n"
      ],
      "execution_count": null,
      "outputs": []
    },
    {
      "cell_type": "code",
      "metadata": {
        "id": "R_TrD3e2lsWE"
      },
      "source": [
        "print(accuracy_score(y_val, y_pred_nn))"
      ],
      "execution_count": null,
      "outputs": []
    },
    {
      "cell_type": "markdown",
      "metadata": {
        "id": "YvX-ssMtdYAE"
      },
      "source": [
        "# Which of your estimators performed best?\n",
        "\n",
        "- Compare on the validation set"
      ]
    },
    {
      "cell_type": "markdown",
      "metadata": {
        "id": "JVYGsUAide4s"
      },
      "source": [
        "# Combine your classifiers into an ensemble that outperforms them all on the validation set."
      ]
    },
    {
      "cell_type": "code",
      "metadata": {
        "id": "tISsRyaxdm7E"
      },
      "source": [
        "from sklearn.ensemble import VotingClassifier"
      ],
      "execution_count": null,
      "outputs": []
    },
    {
      "cell_type": "markdown",
      "metadata": {
        "id": "HVqtQSLZeM3x"
      },
      "source": [
        "# Try some different combinations of the classifiers. Which combination works best?"
      ]
    },
    {
      "cell_type": "markdown",
      "metadata": {
        "id": "xLMsunMRuCfj"
      },
      "source": [
        "Run the individual classifiers from the previous exercise to make predictions on the validation set, and create a new training set with the resulting predictions: each training instance is a vector containing the set of predictions from all your classifiers for an image, and the target is the image's class. Train a classifier on this new training set."
      ]
    },
    {
      "cell_type": "code",
      "metadata": {
        "id": "LsfWOjROucqb"
      },
      "source": [
        ""
      ],
      "execution_count": null,
      "outputs": []
    },
    {
      "cell_type": "code",
      "metadata": {
        "colab": {
          "base_uri": "https://localhost:8080/",
          "height": 236
        },
        "id": "jPdpPHmSc8kr",
        "outputId": "8ef7ca1f-e954-4f9a-c845-9b4b45c84734"
      },
      "source": [
        "estimators = [random_forest_clf, extra_trees_clf, svm_clf, mlp_clf]\n",
        "for estimator in estimators:\n",
        "    estimator.fit(X_train, y_train)\n",
        "\n",
        "X_val_predictions = np.empty((len(X_val), len(estimators)), dtype=np.float32)\n",
        "\n",
        "for index, estimator in enumerate(estimators):\n",
        "    X_val_predictions[:, index] = estimator.predict(X_val)"
      ],
      "execution_count": null,
      "outputs": [
        {
          "output_type": "error",
          "ename": "NameError",
          "evalue": "ignored",
          "traceback": [
            "\u001b[0;31m---------------------------------------------------------------------------\u001b[0m",
            "\u001b[0;31mNameError\u001b[0m                                 Traceback (most recent call last)",
            "\u001b[0;32m<ipython-input-13-400250996d2d>\u001b[0m in \u001b[0;36m<module>\u001b[0;34m()\u001b[0m\n\u001b[0;32m----> 1\u001b[0;31m \u001b[0mestimators\u001b[0m \u001b[0;34m=\u001b[0m \u001b[0;34m[\u001b[0m\u001b[0mrandom_forest_clf\u001b[0m\u001b[0;34m,\u001b[0m \u001b[0mextra_trees_clf\u001b[0m\u001b[0;34m,\u001b[0m \u001b[0msvm_clf\u001b[0m\u001b[0;34m,\u001b[0m \u001b[0mmlp_clf\u001b[0m\u001b[0;34m]\u001b[0m\u001b[0;34m\u001b[0m\u001b[0;34m\u001b[0m\u001b[0m\n\u001b[0m\u001b[1;32m      2\u001b[0m \u001b[0;32mfor\u001b[0m \u001b[0mestimator\u001b[0m \u001b[0;32min\u001b[0m \u001b[0mestimators\u001b[0m\u001b[0;34m:\u001b[0m\u001b[0;34m\u001b[0m\u001b[0;34m\u001b[0m\u001b[0m\n\u001b[1;32m      3\u001b[0m     \u001b[0mestimator\u001b[0m\u001b[0;34m.\u001b[0m\u001b[0mfit\u001b[0m\u001b[0;34m(\u001b[0m\u001b[0mX_train\u001b[0m\u001b[0;34m,\u001b[0m \u001b[0my_train\u001b[0m\u001b[0;34m)\u001b[0m\u001b[0;34m\u001b[0m\u001b[0;34m\u001b[0m\u001b[0m\n\u001b[1;32m      4\u001b[0m \u001b[0;34m\u001b[0m\u001b[0m\n\u001b[1;32m      5\u001b[0m \u001b[0mX_val_predictions\u001b[0m \u001b[0;34m=\u001b[0m \u001b[0mnp\u001b[0m\u001b[0;34m.\u001b[0m\u001b[0mempty\u001b[0m\u001b[0;34m(\u001b[0m\u001b[0;34m(\u001b[0m\u001b[0mlen\u001b[0m\u001b[0;34m(\u001b[0m\u001b[0mX_val\u001b[0m\u001b[0;34m)\u001b[0m\u001b[0;34m,\u001b[0m \u001b[0mlen\u001b[0m\u001b[0;34m(\u001b[0m\u001b[0mestimators\u001b[0m\u001b[0;34m)\u001b[0m\u001b[0;34m)\u001b[0m\u001b[0;34m,\u001b[0m \u001b[0mdtype\u001b[0m\u001b[0;34m=\u001b[0m\u001b[0mnp\u001b[0m\u001b[0;34m.\u001b[0m\u001b[0mfloat32\u001b[0m\u001b[0;34m)\u001b[0m\u001b[0;34m\u001b[0m\u001b[0;34m\u001b[0m\u001b[0m\n",
            "\u001b[0;31mNameError\u001b[0m: name 'random_forest_clf' is not defined"
          ]
        }
      ]
    },
    {
      "cell_type": "markdown",
      "metadata": {
        "id": "AawbXciK1Kz3"
      },
      "source": [
        "# Thilos solution for Stacking exercise"
      ]
    },
    {
      "cell_type": "code",
      "metadata": {
        "id": "nSM0Iyo_1Jxt"
      },
      "source": [
        ""
      ],
      "execution_count": null,
      "outputs": []
    },
    {
      "cell_type": "code",
      "metadata": {
        "id": "8SD45b_gv4AO",
        "colab": {
          "base_uri": "https://localhost:8080/"
        },
        "outputId": "746dd822-4150-4a9e-b95c-401a6165f4e1"
      },
      "source": [
        "array_list = [y_pred_rnd, y_pred_ext, y_pred_mlp]\n",
        "array_length = len(y_pred_rnd)\n",
        "train_new = np.empty([0,array_length])\n",
        "\n",
        "for y in array_list:\n",
        "  train_new = np.vstack((train_new, y))\n",
        "\n",
        "train_new\n"
      ],
      "execution_count": null,
      "outputs": [
        {
          "output_type": "execute_result",
          "data": {
            "text/plain": [
              "array([[5., 8., 2., ..., 7., 6., 7.],\n",
              "       [5., 8., 2., ..., 7., 6., 7.],\n",
              "       [5., 8., 2., ..., 7., 6., 7.]])"
            ]
          },
          "metadata": {
            "tags": []
          },
          "execution_count": 38
        }
      ]
    },
    {
      "cell_type": "code",
      "metadata": {
        "id": "SpB1JXAPx8-N",
        "colab": {
          "base_uri": "https://localhost:8080/"
        },
        "outputId": "b9b741e5-aeb3-4f7b-ef3f-ee846ecda838"
      },
      "source": [
        "train_corr = train_new.T\n",
        "\n",
        "train_corr"
      ],
      "execution_count": null,
      "outputs": [
        {
          "output_type": "execute_result",
          "data": {
            "text/plain": [
              "array([[5., 5., 5.],\n",
              "       [8., 8., 8.],\n",
              "       [2., 2., 2.],\n",
              "       ...,\n",
              "       [7., 7., 7.],\n",
              "       [6., 6., 6.],\n",
              "       [7., 7., 7.]])"
            ]
          },
          "metadata": {
            "tags": []
          },
          "execution_count": 42
        }
      ]
    },
    {
      "cell_type": "code",
      "metadata": {
        "id": "I9Rhu4yrxK6d",
        "colab": {
          "base_uri": "https://localhost:8080/"
        },
        "outputId": "216419c9-e154-4118-a20b-b38d5b3d9f72"
      },
      "source": [
        "rf_new = RandomForestClassifier(random_state=42)\n",
        "\n",
        "rf_new.fit(train_corr, y_val)"
      ],
      "execution_count": null,
      "outputs": [
        {
          "output_type": "execute_result",
          "data": {
            "text/plain": [
              "RandomForestClassifier(bootstrap=True, ccp_alpha=0.0, class_weight=None,\n",
              "                       criterion='gini', max_depth=None, max_features='auto',\n",
              "                       max_leaf_nodes=None, max_samples=None,\n",
              "                       min_impurity_decrease=0.0, min_impurity_split=None,\n",
              "                       min_samples_leaf=1, min_samples_split=2,\n",
              "                       min_weight_fraction_leaf=0.0, n_estimators=100,\n",
              "                       n_jobs=None, oob_score=False, random_state=42, verbose=0,\n",
              "                       warm_start=False)"
            ]
          },
          "metadata": {
            "tags": []
          },
          "execution_count": 43
        }
      ]
    },
    {
      "cell_type": "markdown",
      "metadata": {
        "id": "gIBwHcr5z9zx"
      },
      "source": [
        "## On the test set"
      ]
    },
    {
      "cell_type": "code",
      "metadata": {
        "id": "CYofDfQ3yN6J"
      },
      "source": [
        "y_test_rnd = rnd_clf.predict(X_test)\n",
        "y_test_ext = ext_clf.predict(X_test)\n",
        "y_test_mlp = mlp_clf.predict(X_test)"
      ],
      "execution_count": null,
      "outputs": []
    },
    {
      "cell_type": "code",
      "metadata": {
        "id": "TOC3VaYkzMGk",
        "colab": {
          "base_uri": "https://localhost:8080/"
        },
        "outputId": "87f7dbcb-3cd2-428e-85f1-9286713988c7"
      },
      "source": [
        "y_test_rnd"
      ],
      "execution_count": null,
      "outputs": [
        {
          "output_type": "execute_result",
          "data": {
            "text/plain": [
              "array([8, 4, 8, ..., 3, 8, 3], dtype=uint8)"
            ]
          },
          "metadata": {
            "tags": []
          },
          "execution_count": 50
        }
      ]
    },
    {
      "cell_type": "code",
      "metadata": {
        "id": "J9bWMbGky1VA"
      },
      "source": [
        "array_list = [y_test_rnd, y_test_ext, y_test_mlp]\n",
        "array_length = len(y_test_rnd)\n",
        "test_new = np.empty([0,array_length])\n",
        "\n",
        "for y in array_list:\n",
        "  test_new = np.vstack((test_new, y))\n",
        "\n",
        "test_new_transposed = test_new.T\n"
      ],
      "execution_count": null,
      "outputs": []
    },
    {
      "cell_type": "code",
      "metadata": {
        "id": "qt3V3keXzEtq",
        "colab": {
          "base_uri": "https://localhost:8080/"
        },
        "outputId": "a8bea9a6-ec30-41f3-d4a6-72ef4eb4507b"
      },
      "source": [
        "test_new_transposed"
      ],
      "execution_count": null,
      "outputs": [
        {
          "output_type": "execute_result",
          "data": {
            "text/plain": [
              "array([[8., 8., 8.],\n",
              "       [4., 4., 4.],\n",
              "       [8., 8., 8.],\n",
              "       ...,\n",
              "       [3., 3., 3.],\n",
              "       [8., 8., 8.],\n",
              "       [3., 3., 3.]])"
            ]
          },
          "metadata": {
            "tags": []
          },
          "execution_count": 52
        }
      ]
    },
    {
      "cell_type": "code",
      "metadata": {
        "id": "TEK9FF05zSmR",
        "colab": {
          "base_uri": "https://localhost:8080/"
        },
        "outputId": "554b1a42-388a-4bd5-d1fd-64151ffed824"
      },
      "source": [
        "test_predict = rf_new.predict(test_new_transposed)\n",
        "print(rf_new.__class__.__name__, accuracy_score(y_test, test_predict))"
      ],
      "execution_count": null,
      "outputs": [
        {
          "output_type": "stream",
          "text": [
            "RandomForestClassifier 0.9674\n"
          ],
          "name": "stdout"
        }
      ]
    }
  ]
}